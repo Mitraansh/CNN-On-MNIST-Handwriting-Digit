{
 "cells": [
  {
   "cell_type": "code",
   "execution_count": 1,
   "metadata": {
    "executionInfo": {
     "elapsed": 691,
     "status": "ok",
     "timestamp": 1678383967238,
     "user": {
      "displayName": "Sukarn Chowdhry",
      "userId": "02396852023734432090"
     },
     "user_tz": -330
    },
    "id": "Y1ibd9pqdml-"
   },
   "outputs": [],
   "source": [
    "import tensorflow as tf\n",
    "from tensorflow.keras.models import Sequential\n",
    "from tensorflow.keras.layers import Input\n",
    "from tensorflow.keras.layers import Flatten\n",
    "from tensorflow.keras.layers import Dense\n",
    "from tensorflow.keras.layers import Conv2D\n",
    "from tensorflow.keras.layers import Dropout\n",
    "from tensorflow.keras.layers import MaxPool2D\n",
    "from tensorflow.keras.datasets import mnist\n",
    "from tensorflow.keras.optimizers import RMSprop\n",
    "from tensorflow.keras.utils import plot_model\n",
    "from importlib.resources import path\n",
    "import numpy as np\n",
    "import matplotlib.pyplot as plt\n",
    "import gradio as gr"
   ]
  },
  {
   "cell_type": "code",
   "execution_count": 2,
   "metadata": {
    "colab": {
     "base_uri": "https://localhost:8080/"
    },
    "executionInfo": {
     "elapsed": 1638,
     "status": "ok",
     "timestamp": 1678383977138,
     "user": {
      "displayName": "Sukarn Chowdhry",
      "userId": "02396852023734432090"
     },
     "user_tz": -330
    },
    "id": "UU_Cc-scdmmC",
    "outputId": "8f219e23-f0d1-457a-eda8-7a1e46b64291"
   },
   "outputs": [],
   "source": [
    "(X_train, Y_train), (x_test, y_test) = mnist.load_data()"
   ]
  },
  {
   "cell_type": "markdown",
   "metadata": {
    "id": "ncaRftOPdmmD"
   },
   "source": [
    "Here I am normalizing the data instead of being form 0 to 255 I am making it between 0 and 1"
   ]
  },
  {
   "cell_type": "code",
   "execution_count": 3,
   "metadata": {
    "colab": {
     "base_uri": "https://localhost:8080/",
     "height": 92
    },
    "executionInfo": {
     "elapsed": 1695,
     "status": "ok",
     "timestamp": 1678383981725,
     "user": {
      "displayName": "Sukarn Chowdhry",
      "userId": "02396852023734432090"
     },
     "user_tz": -330
    },
    "id": "OHJvr7JodmmE",
    "outputId": "333dfbff-cf5c-4400-8f8d-6bc2e0ebf855"
   },
   "outputs": [
    {
     "name": "stdout",
     "output_type": "stream",
     "text": [
      "(28, 28, 1)\n"
     ]
    },
    {
     "data": {
      "image/png": "[encoded data removed]",
      "text/plain": [
       "<Figure size 500x300 with 10 Axes>"
      ]
     },
     "metadata": {},
     "output_type": "display_data"
    }
   ],
   "source": [
    "X_train, x_test = X_train/255.0, x_test/255.0\n",
    "\n",
    "X_train = X_train.reshape(X_train.shape[0], 28, 28, 1)\n",
    "x_test = x_test.reshape(x_test.shape[0], 28, 28, 1)\n",
    "\n",
    "fig = plt.figure(figsize=(5, 3))\n",
    "for i in range(10):\n",
    "    ax = fig.add_subplot(2, 10, i+1, xticks=[], yticks=[])\n",
    "    ax.imshow(np.squeeze(X_train[i]), cmap='gray')\n",
    "    ax.set_title(Y_train[i])\n",
    "input_shape = X_train.shape[1:]\n",
    "print(input_shape)"
   ]
  },
  {
   "cell_type": "markdown",
   "metadata": {
    "id": "jbmjwX3PdmmF"
   },
   "source": [
    "Here we I will create the neural network that I will train to classify the digits."
   ]
  },
  {
   "cell_type": "code",
   "execution_count": 4,
   "metadata": {
    "colab": {
     "base_uri": "https://localhost:8080/"
    },
    "executionInfo": {
     "elapsed": 1153,
     "status": "ok",
     "timestamp": 1678384019724,
     "user": {
      "displayName": "Sukarn Chowdhry",
      "userId": "02396852023734432090"
     },
     "user_tz": -330
    },
    "id": "2IbQZF3TdmmF",
    "outputId": "7ea1843d-0f2f-4a85-ff63-830853a0111c"
   },
   "outputs": [
    {
     "name": "stdout",
     "output_type": "stream",
     "text": [
      "Model: \"sequential\"\n",
      "_________________________________________________________________\n",
      " Layer (type)                Output Shape              Param #   \n",
      "=================================================================\n",
      " conv2d (Conv2D)             (None, 28, 28, 32)        832       \n",
      "                                                                 \n",
      " conv2d_1 (Conv2D)           (None, 28, 28, 32)        25632     \n",
      "                                                                 \n",
      " max_pooling2d (MaxPooling2D  (None, 14, 14, 32)       0         \n",
      " )                                                               \n",
      "                                                                 \n",
      " dropout (Dropout)           (None, 14, 14, 32)        0         \n",
      "                                                                 \n",
      " conv2d_2 (Conv2D)           (None, 14, 14, 64)        18496     \n",
      "                                                                 \n",
      " conv2d_3 (Conv2D)           (None, 14, 14, 64)        36928     \n",
      "                                                                 \n",
      " max_pooling2d_1 (MaxPooling  (None, 7, 7, 64)         0         \n",
      " 2D)                                                             \n",
      "                                                                 \n",
      " dropout_1 (Dropout)         (None, 7, 7, 64)          0         \n",
      "                                                                 \n",
      " flatten (Flatten)           (None, 3136)              0         \n",
      "                                                                 \n",
      " dense (Dense)               (None, 256)               803072    \n",
      "                                                                 \n",
      " dropout_2 (Dropout)         (None, 256)               0         \n",
      "                                                                 \n",
      " dense_1 (Dense)             (None, 10)                2570      \n",
      "                                                                 \n",
      "=================================================================\n",
      "Total params: 887,530\n",
      "Trainable params: 887,530\n",
      "Non-trainable params: 0\n",
      "_________________________________________________________________\n"
     ]
    }
   ],
   "source": [
    "model = Sequential([\n",
    "    Conv2D(32, (5,5), padding=\"Same\", activation='relu', input_shape=(28, 28, 1)),\n",
    "    Conv2D(32, (5,5), padding=\"Same\", activation='relu'),\n",
    "    MaxPool2D((2, 2)),\n",
    "    Dropout(0.25),\n",
    "    Conv2D(64, (3,3), padding='Same', activation='relu', input_shape=(28,28,1)),\n",
    "    Conv2D(64, (3,3), padding='Same', activation='relu'),\n",
    "    MaxPool2D((2,2),(2,2)),\n",
    "    Dropout(0.25),\n",
    "    Flatten(),\n",
    "    Dense(256, activation='relu'),\n",
    "    Dropout(0.25),\n",
    "    Dense(10, activation='softmax')\n",
    "])\n",
    "\n",
    "model.summary()"
   ]
  },
  {
   "cell_type": "markdown",
   "metadata": {
    "id": "dLWhYcStdmmG"
   },
   "source": [
    "Now after creating the neural network, I will train it on the MNIST dataset"
   ]
  },
  {
   "cell_type": "code",
   "execution_count": 6,
   "metadata": {
    "colab": {
     "base_uri": "https://localhost:8080/"
    },
    "id": "wvcSmcEbdmmG",
    "outputId": "0f163fe4-24ae-461e-f1a9-a8e9e60794b9"
   },
   "outputs": [
    {
     "name": "stderr",
     "output_type": "stream",
     "text": [
      "WARNING:absl:`lr` is deprecated, please use `learning_rate` instead, or use the legacy optimizer, e.g.,tf.keras.optimizers.legacy.RMSprop.\n"
     ]
    },
    {
     "name": "stdout",
     "output_type": "stream",
     "text": [
      "Epoch 1/20\n",
      "536/536 [==============================] - ETA: 0s - loss: 0.1032 - accuracy: 0.9691{'loss': 0.10322210192680359, 'accuracy': 0.9690999984741211, 'val_loss': 0.03019670955836773, 'val_accuracy': 0.9901999831199646}\n",
      "536/536 [==============================] - 119s 221ms/step - loss: 0.1032 - accuracy: 0.9691 - val_loss: 0.0302 - val_accuracy: 0.9902 - lr: 0.0010\n",
      "Epoch 2/20\n",
      "536/536 [==============================] - ETA: 0s - loss: 0.0489 - accuracy: 0.9847{'loss': 0.04890833795070648, 'accuracy': 0.9847166538238525, 'val_loss': 0.05740693211555481, 'val_accuracy': 0.9805999994277954}\n",
      "536/536 [==============================] - 116s 217ms/step - loss: 0.0489 - accuracy: 0.9847 - val_loss: 0.0574 - val_accuracy: 0.9806 - lr: 0.0010\n",
      "Epoch 3/20\n",
      "536/536 [==============================] - ETA: 0s - loss: 0.0367 - accuracy: 0.9890{'loss': 0.03674539551138878, 'accuracy': 0.9890333414077759, 'val_loss': 0.025561168789863586, 'val_accuracy': 0.9919999837875366}\n",
      "536/536 [==============================] - 119s 222ms/step - loss: 0.0367 - accuracy: 0.9890 - val_loss: 0.0256 - val_accuracy: 0.9920 - lr: 0.0010\n",
      "Epoch 4/20\n",
      "536/536 [==============================] - ETA: 0s - loss: 0.0304 - accuracy: 0.9907{'loss': 0.03043064847588539, 'accuracy': 0.9906833171844482, 'val_loss': 0.022188479080796242, 'val_accuracy': 0.9927999973297119}\n",
      "536/536 [==============================] - 127s 236ms/step - loss: 0.0304 - accuracy: 0.9907 - val_loss: 0.0222 - val_accuracy: 0.9928 - lr: 0.0010\n",
      "Epoch 5/20\n",
      "536/536 [==============================] - ETA: 0s - loss: 0.0263 - accuracy: 0.9919{'loss': 0.02632344514131546, 'accuracy': 0.9918833374977112, 'val_loss': 0.020286986604332924, 'val_accuracy': 0.9940000176429749}\n",
      "536/536 [==============================] - 121s 226ms/step - loss: 0.0263 - accuracy: 0.9919 - val_loss: 0.0203 - val_accuracy: 0.9940 - lr: 0.0010\n",
      "Epoch 6/20\n",
      "536/536 [==============================] - ETA: 0s - loss: 0.0238 - accuracy: 0.9932{'loss': 0.0237546619027853, 'accuracy': 0.9932000041007996, 'val_loss': 0.0174360740929842, 'val_accuracy': 0.9945999979972839}\n",
      "536/536 [==============================] - 119s 221ms/step - loss: 0.0238 - accuracy: 0.9932 - val_loss: 0.0174 - val_accuracy: 0.9946 - lr: 0.0010\n",
      "Epoch 7/20\n",
      "536/536 [==============================] - ETA: 0s - loss: 0.0207 - accuracy: 0.9936{'loss': 0.020736785605549812, 'accuracy': 0.9935500025749207, 'val_loss': 0.016173813492059708, 'val_accuracy': 0.995199978351593}\n",
      "536/536 [==============================] - 123s 229ms/step - loss: 0.0207 - accuracy: 0.9936 - val_loss: 0.0162 - val_accuracy: 0.9952 - lr: 0.0010\n",
      "Epoch 8/20\n",
      "536/536 [==============================] - ETA: 0s - loss: 0.0196 - accuracy: 0.9943{'loss': 0.019582297652959824, 'accuracy': 0.9943333268165588, 'val_loss': 0.03252914175391197, 'val_accuracy': 0.9894999861717224}\n",
      "536/536 [==============================] - 122s 229ms/step - loss: 0.0196 - accuracy: 0.9943 - val_loss: 0.0325 - val_accuracy: 0.9895 - lr: 0.0010\n",
      "Epoch 9/20\n",
      "536/536 [==============================] - ETA: 0s - loss: 0.0168 - accuracy: 0.9948{'loss': 0.01675139181315899, 'accuracy': 0.994783341884613, 'val_loss': 0.021010709926486015, 'val_accuracy': 0.9943000078201294}\n",
      "536/536 [==============================] - 124s 231ms/step - loss: 0.0168 - accuracy: 0.9948 - val_loss: 0.0210 - val_accuracy: 0.9943 - lr: 0.0010\n",
      "Epoch 10/20\n",
      "536/536 [==============================] - ETA: 0s - loss: 0.0155 - accuracy: 0.9952{'loss': 0.01552231889218092, 'accuracy': 0.995199978351593, 'val_loss': 0.020405558869242668, 'val_accuracy': 0.9939000010490417}\n",
      "536/536 [==============================] - 123s 229ms/step - loss: 0.0155 - accuracy: 0.9952 - val_loss: 0.0204 - val_accuracy: 0.9939 - lr: 0.0010\n",
      "Epoch 11/20\n",
      "536/536 [==============================] - ETA: 0s - loss: 0.0100 - accuracy: 0.9969{'loss': 0.010035546496510506, 'accuracy': 0.996916651725769, 'val_loss': 0.017963659018278122, 'val_accuracy': 0.9958999752998352}\n",
      "536/536 [==============================] - 118s 220ms/step - loss: 0.0100 - accuracy: 0.9969 - val_loss: 0.0180 - val_accuracy: 0.9959 - lr: 5.0000e-04\n",
      "Epoch 12/20\n",
      "536/536 [==============================] - ETA: 0s - loss: 0.0076 - accuracy: 0.9979{'loss': 0.007573975715786219, 'accuracy': 0.9978500008583069, 'val_loss': 0.020651651546359062, 'val_accuracy': 0.9955999851226807}\n",
      "536/536 [==============================] - 117s 218ms/step - loss: 0.0076 - accuracy: 0.9979 - val_loss: 0.0207 - val_accuracy: 0.9956 - lr: 5.0000e-04\n",
      "Epoch 13/20\n",
      "536/536 [==============================] - ETA: 0s - loss: 0.0077 - accuracy: 0.9976{'loss': 0.007683535572141409, 'accuracy': 0.9976000189781189, 'val_loss': 0.01721731200814247, 'val_accuracy': 0.9951000213623047}\n",
      "536/536 [==============================] - 124s 232ms/step - loss: 0.0077 - accuracy: 0.9976 - val_loss: 0.0172 - val_accuracy: 0.9951 - lr: 5.0000e-04\n",
      "Epoch 14/20\n",
      "536/536 [==============================] - ETA: 0s - loss: 0.0068 - accuracy: 0.9981{'loss': 0.0068479119800031185, 'accuracy': 0.9981499910354614, 'val_loss': 0.019378842785954475, 'val_accuracy': 0.9955000281333923}\n",
      "536/536 [==============================] - 135s 252ms/step - loss: 0.0068 - accuracy: 0.9981 - val_loss: 0.0194 - val_accuracy: 0.9955 - lr: 5.0000e-04\n",
      "Epoch 15/20\n",
      "536/536 [==============================] - ETA: 0s - loss: 0.0049 - accuracy: 0.9985{'loss': 0.004853539168834686, 'accuracy': 0.9984666705131531, 'val_loss': 0.018502941355109215, 'val_accuracy': 0.9952999949455261}\n",
      "536/536 [==============================] - 140s 261ms/step - loss: 0.0049 - accuracy: 0.9985 - val_loss: 0.0185 - val_accuracy: 0.9953 - lr: 2.5000e-04\n",
      "Epoch 16/20\n",
      "536/536 [==============================] - ETA: 0s - loss: 0.0037 - accuracy: 0.9989{'loss': 0.0036630691029131413, 'accuracy': 0.9989166855812073, 'val_loss': 0.01783926412463188, 'val_accuracy': 0.9954000115394592}\n",
      "536/536 [==============================] - 138s 258ms/step - loss: 0.0037 - accuracy: 0.9989 - val_loss: 0.0178 - val_accuracy: 0.9954 - lr: 2.5000e-04\n",
      "Epoch 17/20\n",
      "536/536 [==============================] - ETA: 0s - loss: 0.0032 - accuracy: 0.9990{'loss': 0.003180114086717367, 'accuracy': 0.9990166425704956, 'val_loss': 0.02139204367995262, 'val_accuracy': 0.9959999918937683}\n",
      "\n",
      "It's accurate enough so let's stop!\n",
      "\n",
      "536/536 [==============================] - 142s 265ms/step - loss: 0.0032 - accuracy: 0.9990 - val_loss: 0.0214 - val_accuracy: 0.9960 - lr: 2.5000e-04\n"
     ]
    },
    {
     "data": {
      "text/plain": [
       "<keras.callbacks.History at 0x22fe19ea580>"
      ]
     },
     "execution_count": 6,
     "metadata": {},
     "output_type": "execute_result"
    }
   ],
   "source": [
    "model.compile(\n",
    "    optimizer=RMSprop(lr=0.001, rho=0.9, epsilon=1e-08),\n",
    "    loss='sparse_categorical_crossentropy',\n",
    "    metrics=['accuracy']\n",
    ")\n",
    "\n",
    "class myCallback(tf.keras.callbacks.Callback):\n",
    "  def on_epoch_end(self, epoch, logs={}):\n",
    "    print(logs)\n",
    "    if(logs.get('accuracy') > 0.999):\n",
    "      print(\"\\nIt's accurate enough so let's stop!\\n\")\n",
    "      self.model.stop_training = True\n",
    "                            \n",
    "callbacks = myCallback()\n",
    "\n",
    "\n",
    "learning_rate_reduction = tf.keras.callbacks.ReduceLROnPlateau(\n",
    "  monitor='val_accuracy',\n",
    "  patience=3,\n",
    "  factor=0.5,\n",
    "  min_lr=0.00001\n",
    "  )\n",
    "\n",
    "model.fit(\n",
    "    X_train, \n",
    "    Y_train,\n",
    "    epochs=20,\n",
    "    batch_size=112,\n",
    "    callbacks=[callbacks, learning_rate_reduction],\n",
    "    validation_data=(x_test, y_test)\n",
    ")"
   ]
  },
  {
   "cell_type": "markdown",
   "metadata": {
    "id": "R7imVhLmdmmH"
   },
   "source": [
    "Saving the model to not do the whole trainning again."
   ]
  },
  {
   "cell_type": "code",
   "execution_count": 7,
   "metadata": {
    "executionInfo": {
     "elapsed": 347,
     "status": "ok",
     "timestamp": 1678384111128,
     "user": {
      "displayName": "Sukarn Chowdhry",
      "userId": "02396852023734432090"
     },
     "user_tz": -330
    },
    "id": "toVjv4ETdmmH"
   },
   "outputs": [],
   "source": [
    "model.save(\"digit_classification.h5\")"
   ]
  },
  {
   "cell_type": "markdown",
   "metadata": {
    "id": "Ucdt9I2fdmmI"
   },
   "source": [
    "Here we will store the predicitons from the test dataset. "
   ]
  },
  {
   "cell_type": "code",
   "execution_count": 8,
   "metadata": {
    "colab": {
     "base_uri": "https://localhost:8080/"
    },
    "executionInfo": {
     "elapsed": 21812,
     "status": "ok",
     "timestamp": 1678384139309,
     "user": {
      "displayName": "Sukarn Chowdhry",
      "userId": "02396852023734432090"
     },
     "user_tz": -330
    },
    "id": "IwZJlKJldmmJ",
    "outputId": "1c822927-1ae1-4edd-8fc1-5fc16fec78c8"
   },
   "outputs": [
    {
     "name": "stdout",
     "output_type": "stream",
     "text": [
      "313/313 [==============================] - 5s 15ms/step\n"
     ]
    }
   ],
   "source": [
    "predictions = model.predict([x_test])"
   ]
  },
  {
   "cell_type": "markdown",
   "metadata": {
    "id": "HvfwCNWpdmmJ"
   },
   "source": [
    "Here we are trying to display the results of some predictions."
   ]
  },
  {
   "cell_type": "code",
   "execution_count": 9,
   "metadata": {
    "colab": {
     "base_uri": "https://localhost:8080/",
     "height": 283
    },
    "executionInfo": {
     "elapsed": 15,
     "status": "ok",
     "timestamp": 1678384139311,
     "user": {
      "displayName": "Sukarn Chowdhry",
      "userId": "02396852023734432090"
     },
     "user_tz": -330
    },
    "id": "bwdptSqidmmJ",
    "outputId": "01583288-cdc3-4d0d-ebd5-2fe79a15160a"
   },
   "outputs": [
    {
     "name": "stdout",
     "output_type": "stream",
     "text": [
      "6\n"
     ]
    },
    {
     "data": {
      "image/png": "[encoded data removed]",
      "text/plain": [
       "<Figure size 640x480 with 1 Axes>"
      ]
     },
     "metadata": {},
     "output_type": "display_data"
    }
   ],
   "source": [
    "print(np.argmax(predictions[123]))\n",
    "plt.imshow(x_test[123], cmap='gray')\n",
    "plt.show()"
   ]
  },
  {
   "cell_type": "markdown",
   "metadata": {
    "id": "lrUGHnBpdmmK"
   },
   "source": [
    "Finally, here is the accuracy of the model:"
   ]
  },
  {
   "cell_type": "code",
   "execution_count": 10,
   "metadata": {
    "colab": {
     "base_uri": "https://localhost:8080/"
    },
    "executionInfo": {
     "elapsed": 20735,
     "status": "ok",
     "timestamp": 1678384160041,
     "user": {
      "displayName": "Sukarn Chowdhry",
      "userId": "02396852023734432090"
     },
     "user_tz": -330
    },
    "id": "LYrpMMZkdmmK",
    "outputId": "e58c56e2-7352-48ec-db3a-d80b47a8f983"
   },
   "outputs": [
    {
     "name": "stdout",
     "output_type": "stream",
     "text": [
      "313/313 [==============================] - 5s 15ms/step - loss: 0.0214 - accuracy: 0.9960\n"
     ]
    }
   ],
   "source": [
    "(model_loss, model_accuracy) = model.evaluate(x_test, y_test)"
   ]
  },
  {
   "cell_type": "code",
   "execution_count": 11,
   "metadata": {
    "colab": {
     "base_uri": "https://localhost:8080/"
    },
    "executionInfo": {
     "elapsed": 4,
     "status": "ok",
     "timestamp": 1678384160041,
     "user": {
      "displayName": "Sukarn Chowdhry",
      "userId": "02396852023734432090"
     },
     "user_tz": -330
    },
    "id": "GupXMsRQdmmK",
    "outputId": "9beea53f-1e20-4f75-dd47-9256deb0c70a"
   },
   "outputs": [
    {
     "name": "stdout",
     "output_type": "stream",
     "text": [
      "the accuracy of my model is: 99.59999918937683%\n"
     ]
    }
   ],
   "source": [
    "print(f'the accuracy of my model is: {model_accuracy * 100}%')"
   ]
  },
  {
   "cell_type": "code",
   "execution_count": 12,
   "metadata": {
    "colab": {
     "base_uri": "https://localhost:8080/",
     "height": 1000
    },
    "executionInfo": {
     "elapsed": 1571,
     "status": "ok",
     "timestamp": 1678384161610,
     "user": {
      "displayName": "Sukarn Chowdhry",
      "userId": "02396852023734432090"
     },
     "user_tz": -330
    },
    "id": "MKSOeIredmmL",
    "outputId": "46430be5-6e27-496f-9442-8cf07a2d024a"
   },
   "outputs": [
    {
     "name": "stdout",
     "output_type": "stream",
     "text": [
      "You must install pydot (`pip install pydot`) and install graphviz (see instructions at https://graphviz.gitlab.io/download/) for plot_model to work.\n"
     ]
    }
   ],
   "source": [
    "plot_model(\n",
    "    model, \n",
    "    to_file='NN_model.png',\n",
    "    show_shapes=True,\n",
    "    show_dtype=False,\n",
    "    show_layer_names=True,\n",
    "    rankdir=\"TL\",\n",
    "    expand_nested=False,\n",
    "    dpi=96,\n",
    "    layer_range=None,\n",
    "    show_layer_activations=True,\n",
    ")"
   ]
  },
  {
   "cell_type": "code",
   "execution_count": null,
   "metadata": {},
   "outputs": [],
   "source": []
  }
 ],
 "metadata": {
  "colab": {
   "provenance": []
  },
  "kernelspec": {
   "display_name": "Python 3 (ipykernel)",
   "language": "python",
   "name": "python3"
  },
  "language_info": {
   "codemirror_mode": {
    "name": "ipython",
    "version": 3
   },
   "file_extension": ".py",
   "mimetype": "text/x-python",
   "name": "python",
   "nbconvert_exporter": "python",
   "pygments_lexer": "ipython3",
   "version": "3.9.13"
  },
  "vscode": {
   "interpreter": {
    "hash": "31f2aee4e71d21fbe5cf8b01ff0e069b9275f58929596ceb00d14d90e3e16cd6"
   }
  }
 },
 "nbformat": 4,
 "nbformat_minor": 1
}
